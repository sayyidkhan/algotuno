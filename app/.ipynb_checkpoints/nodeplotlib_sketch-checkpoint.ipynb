{
 "cells": [
  {
   "cell_type": "markdown",
   "id": "aa8cad85",
   "metadata": {},
   "source": [
    "## Installation\n",
    "\n",
    "run this command in the terminal in the current directory\n",
    "\n",
    "```bash\n",
    "npm install\n",
    "```"
   ]
  },
  {
   "cell_type": "markdown",
   "id": "921d325a",
   "metadata": {},
   "source": [
    "## Documentation\n",
    "\n",
    "**documentation for nodeplotlib**\n",
    "<br>\n",
    "[nodeplotlib documentation](https://github.com/ngfelixl/nodeplotlib/blob/master/libs/nodeplotlib/README.md)\n",
    "<br>\n",
    "**cheatsheet**\n",
    "<br>\n",
    "[Tux, the Linux mascot](https://images.plot.ly/plotly-documentation/images/plotly_js_cheat_sheet.pdf?_ga=2.2676214.711017137.1550402185-1513144731.1549064935)\n",
    "                                           "
   ]
  },
  {
   "cell_type": "markdown",
   "id": "c206ede2",
   "metadata": {},
   "source": [
    "var { plot, Plot } =require('nodeplotlib');"
   ]
  },
  {
   "cell_type": "markdown",
   "id": "db55dbda",
   "metadata": {},
   "source": [
    "## Function build to make modelling data easier\n",
    "\n",
    "the function helps to take your 1 dimension data, price \n",
    "and converts it into a two dimension data, for each price it will associate a day with it"
   ]
  },
  {
   "cell_type": "code",
   "execution_count": 14,
   "id": "fc6fbf7e",
   "metadata": {},
   "outputs": [],
   "source": [
    "function convert_to_x_and_y_axis(price_list) {\n",
    "    let x = [];\n",
    "    let y = [];\n",
    "    for(var i = 0; i < price_list.length;i++) {\n",
    "        var curr_item = price_list[i];\n",
    "        \n",
    "        x.push(i + 1);\n",
    "        y.push(curr_item);\n",
    "    }\n",
    "    \n",
    "    obj = {\n",
    "        'x-axis' : x,\n",
    "        'y-axis' : y,\n",
    "    }\n",
    "    return obj\n",
    "}\n",
    "\n",
    "function generate_plot_line(price_list, name) {\n",
    "    var obj = convert_to_x_and_y_axis(price_list);\n",
    "    return { x: obj['x-axis'], y: obj['y-axis'] , type: 'plot' , name: name };\n",
    "}"
   ]
  },
  {
   "cell_type": "code",
   "execution_count": null,
   "id": "c603faf8",
   "metadata": {},
   "outputs": [],
   "source": []
  },
  {
   "cell_type": "code",
   "execution_count": 15,
   "id": "0b1be136",
   "metadata": {},
   "outputs": [],
   "source": [
    "// 1st series\n",
    "var first_plot = generate_plot_line([10,20,30],\"gold actual price\");"
   ]
  },
  {
   "cell_type": "code",
   "execution_count": 19,
   "id": "ecb40d2c",
   "metadata": {},
   "outputs": [
    {
     "name": "stdout",
     "output_type": "stream",
     "text": [
      "App is already up and running\n",
      "client disconnected\n",
      "Server shutting down\n"
     ]
    }
   ],
   "source": [
    "plot([first_plot]);"
   ]
  },
  {
   "cell_type": "code",
   "execution_count": null,
   "id": "52954551",
   "metadata": {},
   "outputs": [],
   "source": []
  }
 ],
 "metadata": {
  "kernelspec": {
   "display_name": "JavaScript (Node.js)",
   "language": "javascript",
   "name": "javascript"
  },
  "language_info": {
   "file_extension": ".js",
   "mimetype": "application/javascript",
   "name": "javascript",
   "version": "16.14.2"
  }
 },
 "nbformat": 4,
 "nbformat_minor": 5
}
