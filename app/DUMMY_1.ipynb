{
 "cells": [
  {
   "cell_type": "code",
   "execution_count": 1,
   "id": "8377db72",
   "metadata": {},
   "outputs": [],
   "source": [
    "const tf = require('@tensorflow/tfjs-node');"
   ]
  },
  {
   "cell_type": "code",
   "execution_count": 4,
   "id": "c46bdcf0",
   "metadata": {},
   "outputs": [
    {
     "name": "stdout",
     "output_type": "stream",
     "text": [
      "hello world\n"
     ]
    }
   ],
   "source": [
    "console.log(\"hello world\");"
   ]
  },
  {
   "cell_type": "code",
   "execution_count": 3,
   "id": "eabd292c",
   "metadata": {},
   "outputs": [
    {
     "name": "stdout",
     "output_type": "stream",
     "text": [
      "4\n"
     ]
    }
   ],
   "source": [
    "var a = 1 + 3;\n",
    "console.log(a);"
   ]
  },
  {
   "cell_type": "code",
   "execution_count": 5,
   "id": "a61ac423",
   "metadata": {},
   "outputs": [
    {
     "name": "stdout",
     "output_type": "stream",
     "text": [
      "5\n"
     ]
    }
   ],
   "source": [
    "var b = a + 1;\n",
    "console.log(b);"
   ]
  },
  {
   "cell_type": "code",
   "execution_count": 6,
   "id": "90b7bcda",
   "metadata": {},
   "outputs": [
    {
     "name": "stdout",
     "output_type": "stream",
     "text": [
      "Tensor\n",
      "    [[1, 2, 3],\n",
      "     [4, 5, 6]]\n"
     ]
    }
   ],
   "source": [
    "var shape = [2,3];\n",
    "var a = tf.tensor([1,2,3,4,5,6],shape);\n",
    "a.print();"
   ]
  },
  {
   "cell_type": "code",
   "execution_count": 10,
   "id": "c0d64092",
   "metadata": {},
   "outputs": [
    {
     "ename": "SyntaxError",
     "evalue": "Unexpected token '|'",
     "output_type": "error",
     "traceback": [
      "evalmachine.<anonymous>:5",
      "|",
      "^",
      "",
      "SyntaxError: Unexpected token '|'",
      "    at new Script (node:vm:100:7)",
      "    at createScript (node:vm:257:10)",
      "    at Object.runInThisContext (node:vm:305:10)",
      "    at run ([eval]:1020:15)",
      "    at onRunRequest ([eval]:864:18)",
      "    at onMessage ([eval]:828:13)",
      "    at process.emit (node:events:526:28)",
      "    at emit (node:internal/child_process:938:14)",
      "    at processTicksAndRejections (node:internal/process/task_queues:84:21)"
     ]
    }
   ],
   "source": [
    "tensor - [[x],[y]] (orignal) (training)\n",
    "\n",
    "| /\n",
    "|/__\n",
    "|___"
   ]
  },
  {
   "cell_type": "code",
   "execution_count": null,
   "id": "858f4e2e",
   "metadata": {},
   "outputs": [],
   "source": []
  }
 ],
 "metadata": {
  "kernelspec": {
   "display_name": "JavaScript (Node.js)",
   "language": "javascript",
   "name": "javascript"
  },
  "language_info": {
   "file_extension": ".js",
   "mimetype": "application/javascript",
   "name": "javascript",
   "version": "16.14.2"
  }
 },
 "nbformat": 4,
 "nbformat_minor": 5
}
