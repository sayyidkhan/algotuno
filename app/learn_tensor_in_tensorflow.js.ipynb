{
 "cells": [
  {
   "cell_type": "markdown",
   "id": "9e7e4da8",
   "metadata": {},
   "source": [
    "#### What is a Tensor(s) ?\n",
    "\n",
    "The central unit of data in TensorFlow.js is the tf.Tensor: a set of values shaped into an array of one or more dimensions. tf.Tensors are very similar to multidimensional arrays."
   ]
  },
  {
   "cell_type": "code",
   "execution_count": 1,
   "id": "e1ea5f95",
   "metadata": {},
   "outputs": [],
   "source": [
    "const tf = require('@tensorflow/tfjs-node');"
   ]
  },
  {
   "cell_type": "code",
   "execution_count": 2,
   "id": "63f07dd9",
   "metadata": {},
   "outputs": [
    {
     "name": "stdout",
     "output_type": "stream",
     "text": [
      "shape: [ 2, 2 ]\n",
      "Tensor\n",
      "    [[1, 2],\n",
      "     [3, 4]]\n"
     ]
    }
   ],
   "source": [
    "var a = tf.tensor([[1, 2], [3, 4]]);\n",
    "// a.shape describes the dimension of the tensor\n",
    "// eg. [2, 2]\n",
    "console.log('shape:', a.shape);\n",
    "// a.print (prints out the data of the tensor)\n",
    "// Tensor[[1,2,3,4]]\n",
    "a.print();"
   ]
  },
  {
   "cell_type": "code",
   "execution_count": 28,
   "id": "1f680e0f",
   "metadata": {},
   "outputs": [
    {
     "name": "stdout",
     "output_type": "stream",
     "text": [
      "shape: [ 4, 2 ]\n",
      "Tensor\n",
      "    [[1, 2],\n",
      "     [3, 4],\n",
      "     [5, 6],\n",
      "     [7, 8]]\n"
     ]
    }
   ],
   "source": [
    "var no_of_array = 4; // the no of array for each tensor\n",
    "var no_of_item_in_each_array = 2; // the width of the array\n",
    "var shape = [no_of_array, no_of_item_in_each_array];\n",
    "var b = tf.tensor([1,2,3,4,5,6,7,8], shape);\n",
    "console.log('shape:', b.shape);\n",
    "b.print();"
   ]
  },
  {
   "cell_type": "code",
   "execution_count": 29,
   "id": "96c864ad",
   "metadata": {},
   "outputs": [
    {
     "data": {
      "text/plain": [
       "Promise { <pending> }"
      ]
     },
     "execution_count": 29,
     "metadata": {},
     "output_type": "execute_result"
    },
    {
     "name": "stdout",
     "output_type": "stream",
     "text": [
      "[ [ 1, 2 ], [ 3, 4 ] ]\n"
     ]
    }
   ],
   "source": [
    " var a = tf.tensor([[1, 2], [3, 4]]);\n",
    " // Returns the multi dimensional array of values.\n",
    " a.array().then(async array => {\n",
    "    await console.log(array);\n",
    " });\n",
    " // Returns the flattened data that backs the tensor.\n",
    " // a.data().then(data => console.log(data));"
   ]
  },
  {
   "cell_type": "code",
   "execution_count": 30,
   "id": "f54caf5a",
   "metadata": {},
   "outputs": [
    {
     "name": "stdout",
     "output_type": "stream",
     "text": [
      "Tensor\n",
      "    [5, 15, 25, 35]\n"
     ]
    }
   ],
   "source": [
    "// Broadcast subtract a with b.\n",
    "var a = tf.tensor1d([10, 20, 30, 40]);\n",
    "var b = tf.scalar(5);\n",
    "\n",
    "a.sub(b).print();  // or tf.sub(a, b)"
   ]
  },
  {
   "cell_type": "code",
   "execution_count": 31,
   "id": "7a1259e2",
   "metadata": {},
   "outputs": [
    {
     "data": {
      "text/plain": [
       "Promise { <pending> }"
      ]
     },
     "execution_count": 31,
     "metadata": {},
     "output_type": "execute_result"
    },
    {
     "name": "stdout",
     "output_type": "stream",
     "text": [
      "Epoch 1 / 1\n"
     ]
    },
    {
     "name": "stderr",
     "output_type": "stream",
     "text": [
      "\n"
     ]
    },
    {
     "name": "stdout",
     "output_type": "stream",
     "text": [
      "27ms 6751us/step - loss=44.21 \n",
      "Tensor\n",
      "     [[-1.8477101],]\n"
     ]
    }
   ],
   "source": [
    "// Define a model for linear regression.\n",
    "var model = tf.sequential();\n",
    "model.add(tf.layers.dense({units: 1, inputShape: [1]}));\n",
    "\n",
    "// Prepare the model for training: Specify the loss and the optimizer.\n",
    "model.compile({loss: 'meanSquaredError', optimizer: 'sgd'});\n",
    "\n",
    "// Generate some synthetic data for training.\n",
    "var xs = tf.tensor2d([1, 2, 3, 4], [4, 1]);\n",
    "var ys = tf.tensor2d([1, 3, 5, 7], [4, 1]);\n",
    "\n",
    "// Train the model using the data.\n",
    "model.fit(xs, ys).then(() => {\n",
    "  // Use the model to do inference on a data point the model hasn't seen before:\n",
    "  // Open the browser devtools to see the output\n",
    "  model.predict(tf.tensor2d([5], [1, 1])).print();\n",
    "});"
   ]
  },
  {
   "cell_type": "code",
   "execution_count": null,
   "id": "29a55d4d",
   "metadata": {},
   "outputs": [],
   "source": []
  }
 ],
 "metadata": {
  "kernelspec": {
   "display_name": "JavaScript (Node.js)",
   "language": "javascript",
   "name": "javascript"
  },
  "language_info": {
   "file_extension": ".js",
   "mimetype": "application/javascript",
   "name": "javascript",
   "version": "16.14.2"
  }
 },
 "nbformat": 4,
 "nbformat_minor": 5
}
