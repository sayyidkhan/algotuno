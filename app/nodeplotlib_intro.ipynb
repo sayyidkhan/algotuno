{
 "cells": [
  {
   "cell_type": "markdown",
   "id": "aa8cad85",
   "metadata": {},
   "source": [
    "## Installation\n",
    "\n",
    "run this command in the terminal in the current directory\n",
    "\n",
    "```bash\n",
    "npm install\n",
    "```"
   ]
  },
  {
   "cell_type": "markdown",
   "id": "921d325a",
   "metadata": {},
   "source": [
    "## Documentation\n",
    "\n",
    "**documentation for nodeplotlib**\n",
    "<br>\n",
    "[nodeplotlib documentation](https://github.com/ngfelixl/nodeplotlib/blob/master/libs/nodeplotlib/README.md)\n",
    "<br>\n",
    "**cheatsheet**\n",
    "<br>\n",
    "[Tux, the Linux mascot](https://images.plot.ly/plotly-documentation/images/plotly_js_cheat_sheet.pdf?_ga=2.2676214.711017137.1550402185-1513144731.1549064935)\n",
    "                                           "
   ]
  },
  {
   "cell_type": "code",
   "execution_count": 1,
   "id": "ca8ac33b",
   "metadata": {},
   "outputs": [],
   "source": [
    "var { plot, Plot } =require('nodeplotlib');"
   ]
  },
  {
   "cell_type": "code",
   "execution_count": 3,
   "id": "8477a46b",
   "metadata": {},
   "outputs": [
    {
     "name": "stdout",
     "output_type": "stream",
     "text": [
      "App is already up and running\n"
     ]
    }
   ],
   "source": [
    "var data = [\n",
    "  {\n",
    "    x: [1, 3, 4, 5],\n",
    "    y: [3, 12, 1, 4],\n",
    "    type: 'scatter',\n",
    "  },\n",
    "];\n",
    "\n",
    "plot(data);"
   ]
  },
  {
   "cell_type": "code",
   "execution_count": 2,
   "id": "d939eabf",
   "metadata": {},
   "outputs": [
    {
     "name": "stdout",
     "output_type": "stream",
     "text": [
      "\u001b[32m[Nest] 24128  - \u001b[39m05/01/2022, 3:32:09 PM \u001b[32m    LOG\u001b[39m \u001b[38;5;3m[NestFactory] \u001b[39m\u001b[32mStarting Nest application...\u001b[39m\n",
      "\u001b[32m[Nest] 24128  - \u001b[39m05/01/2022, 3:32:09 PM \u001b[32m    LOG\u001b[39m \u001b[38;5;3m[InstanceLoader] \u001b[39m\u001b[32mServerModule dependencies initialized\u001b[39m\u001b[38;5;3m +34ms\u001b[39m\n",
      "\u001b[32m[Nest] 24128  - \u001b[39m05/01/2022, 3:32:09 PM \u001b[32m    LOG\u001b[39m \u001b[38;5;3m[InstanceLoader] \u001b[39m\u001b[32mServeStaticModule dependencies initialized\u001b[39m\u001b[38;5;3m +0ms\u001b[39m\n",
      "\u001b[32m[Nest] 24128  - \u001b[39m05/01/2022, 3:32:09 PM \u001b[32m    LOG\u001b[39m \u001b[38;5;3m[WebSocketsController] \u001b[39m\u001b[32mPlotsGateway subscribed to the \"readplots\" message\u001b[39m\u001b[38;5;3m +97ms\u001b[39m\n",
      "\u001b[32m[Nest] 24128  - \u001b[39m05/01/2022, 3:32:09 PM \u001b[32m    LOG\u001b[39m \u001b[38;5;3m[NestApplication] \u001b[39m\u001b[32mNest application successfully started\u001b[39m\u001b[38;5;3m +4ms\u001b[39m\n",
      "Server running at http://localhost:52052\n",
      "client connected\n",
      "client disconnected\n",
      "Server shutting down\n"
     ]
    }
   ],
   "source": [
    "var trace1 = { x: [1, 2,3,4], y: [100, 110,115,117] , type: 'plot' , name: 'Actual Price' };\n",
    "var trace2 = { x: [1, 2,3,4], y: [100, 105,110,112], type: 'plot', name: 'Training Dataset' };\n",
    "plot([trace1, trace2]);"
   ]
  },
  {
   "cell_type": "markdown",
   "id": "db55dbda",
   "metadata": {},
   "source": [
    "## Function build to make modelling data easier\n",
    "\n",
    "the function helps to take your 1 dimension data, price \n",
    "and converts it into a two dimension data, for each price it will associate a day with it"
   ]
  },
  {
   "cell_type": "code",
   "execution_count": 14,
   "id": "fc6fbf7e",
   "metadata": {},
   "outputs": [],
   "source": [
    "function convert_to_x_and_y_axis(price_list) {\n",
    "    let x = [];\n",
    "    let y = [];\n",
    "    for(var i = 0; i < price_list.length;i++) {\n",
    "        var curr_item = price_list[i];\n",
    "        \n",
    "        x.push(i + 1);\n",
    "        y.push(curr_item);\n",
    "    }\n",
    "    \n",
    "    obj = {\n",
    "        'x-axis' : x,\n",
    "        'y-axis' : y,\n",
    "    }\n",
    "    return obj\n",
    "}\n",
    "\n",
    "function generate_plot_line(price_list, name) {\n",
    "    var obj = convert_to_x_and_y_axis(price_list);\n",
    "    return { x: obj['x-axis'], y: obj['y-axis'] , type: 'plot' , name: name };\n",
    "}\n",
    "    "
   ]
  },
  {
   "cell_type": "code",
   "execution_count": 15,
   "id": "0b1be136",
   "metadata": {},
   "outputs": [],
   "source": [
    "// 1st series\n",
    "var first_plot = generate_plot_line([10,20,30],\"actual price\");"
   ]
  },
  {
   "cell_type": "code",
   "execution_count": 18,
   "id": "c354f9e7",
   "metadata": {},
   "outputs": [],
   "source": [
    "// 2nd series\n",
    "var second_plot = generate_plot_line([10,25,30],\"predicted price\");"
   ]
  },
  {
   "cell_type": "code",
   "execution_count": 19,
   "id": "ecb40d2c",
   "metadata": {},
   "outputs": [
    {
     "name": "stdout",
     "output_type": "stream",
     "text": [
      "App is already up and running\n",
      "client disconnected\n",
      "Server shutting down\n"
     ]
    }
   ],
   "source": [
    "plot([first_plot, second_plot]);"
   ]
  },
  {
   "cell_type": "code",
   "execution_count": null,
   "id": "52954551",
   "metadata": {},
   "outputs": [],
   "source": []
  }
 ],
 "metadata": {
  "kernelspec": {
   "display_name": "JavaScript (Node.js)",
   "language": "javascript",
   "name": "javascript"
  },
  "language_info": {
   "file_extension": ".js",
   "mimetype": "application/javascript",
   "name": "javascript",
   "version": "16.14.2"
  }
 },
 "nbformat": 4,
 "nbformat_minor": 5
}
