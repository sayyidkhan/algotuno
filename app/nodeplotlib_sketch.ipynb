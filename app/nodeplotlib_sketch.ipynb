{
 "cells": [
  {
   "cell_type": "markdown",
   "id": "aa8cad85",
   "metadata": {},
   "source": [
    "## Installation\n",
    "\n",
    "run this command in the terminal in the current directory\n",
    "\n",
    "```bash\n",
    "npm install\n",
    "```"
   ]
  },
  {
   "cell_type": "markdown",
   "id": "921d325a",
   "metadata": {},
   "source": [
    "## Documentation\n",
    "\n",
    "**documentation for nodeplotlib**\n",
    "<br>\n",
    "[nodeplotlib documentation](https://github.com/ngfelixl/nodeplotlib/blob/master/libs/nodeplotlib/README.md)\n",
    "<br>\n",
    "**cheatsheet**\n",
    "<br>\n",
    "[Tux, the Linux mascot](https://images.plot.ly/plotly-documentation/images/plotly_js_cheat_sheet.pdf?_ga=2.2676214.711017137.1550402185-1513144731.1549064935)\n",
    "                                           "
   ]
  },
  {
   "cell_type": "markdown",
   "id": "c206ede2",
   "metadata": {},
   "source": [
    "var { plot, Plot } =require('nodeplotlib');"
   ]
  },
  {
   "cell_type": "markdown",
   "id": "db55dbda",
   "metadata": {},
   "source": [
    "## Function build to make modelling data easier\n",
    "\n",
    "the function helps to take your 1 dimension data, price \n",
    "and converts it into a two dimension data, for each price it will associate a day with it"
   ]
  },
  {
   "cell_type": "code",
   "execution_count": 1,
   "id": "3bd4c51f",
   "metadata": {},
   "outputs": [],
   "source": [
    "var { plot, Plot } = require('nodeplotlib');\n",
    "var fs = require('fs');"
   ]
  },
  {
   "cell_type": "code",
   "execution_count": 2,
   "id": "fc6fbf7e",
   "metadata": {},
   "outputs": [],
   "source": [
    "function convert_to_x_and_y_axis(price_list) {\n",
    "    let x = [];\n",
    "    let y = [];\n",
    "    for(var i = 0; i < price_list.length;i++) {\n",
    "        var curr_item = price_list[i];\n",
    "        \n",
    "        x.push(i + 1);\n",
    "        y.push(curr_item);\n",
    "    }\n",
    "    \n",
    "    obj = {\n",
    "        'x-axis' : x,\n",
    "        'y-axis' : y,\n",
    "    }\n",
    "    return obj\n",
    "}\n",
    "\n",
    "function generate_plot_line(price_list, name) {\n",
    "    var obj = convert_to_x_and_y_axis(price_list);\n",
    "    return { x: obj['x-axis'], y: obj['y-axis'] , type: 'plot' , name: name };\n",
    "}"
   ]
  },
  {
   "cell_type": "code",
   "execution_count": 3,
   "id": "594aa70a",
   "metadata": {},
   "outputs": [
    {
     "data": {
      "text/plain": [
       "[\n",
       "  { usd_price: '95.735', date: '2018-12-31T00:00:00.000Z' },\n",
       "  { usd_price: '95.965', date: '2018-12-28T00:00:00.000Z' },\n",
       "  { usd_price: '96.001', date: '2018-12-27T00:00:00.000Z' },\n",
       "  { usd_price: '96.568', date: '2018-12-26T00:00:00.000Z' },\n",
       "  { usd_price: '96.007', date: '2018-12-24T00:00:00.000Z' },\n",
       "  { usd_price: '96.455', date: '2018-12-21T00:00:00.000Z' },\n",
       "  { usd_price: '95.728', date: '2018-12-20T00:00:00.000Z' },\n",
       "  { usd_price: '96.484', date: '2018-12-19T00:00:00.000Z' },\n",
       "  { usd_price: '96.57', date: '2018-12-18T00:00:00.000Z' },\n",
       "  { usd_price: '97.175', date: '2018-12-17T00:00:00.000Z' },\n",
       "  { usd_price: '97.43', date: '2018-12-14T00:00:00.000Z' },\n",
       "  { usd_price: '97.056', date: '2018-12-13T00:00:00.000Z' },\n",
       "  { usd_price: '97.018', date: '2018-12-12T00:00:00.000Z' },\n",
       "  { usd_price: '97.358', date: '2018-12-11T00:00:00.000Z' },\n",
       "  { usd_price: '97.183', date: '2018-12-10T00:00:00.000Z' },\n",
       "  { usd_price: '96.476', date: '2018-12-07T00:00:00.000Z' },\n",
       "  { usd_price: '96.764', date: '2018-12-06T00:00:00.000Z' },\n",
       "  { usd_price: '96.902', date: '2018-12-04T00:00:00.000Z' },\n",
       "  { usd_price: '96.969', date: '2018-12-03T00:00:00.000Z' },\n",
       "  { usd_price: '97.196', date: '2018-11-30T00:00:00.000Z' },\n",
       "  { usd_price: '96.699', date: '2018-11-29T00:00:00.000Z' },\n",
       "  { usd_price: '96.681', date: '2018-11-28T00:00:00.000Z' },\n",
       "  { usd_price: '97.28', date: '2018-11-27T00:00:00.000Z' },\n",
       "  { usd_price: '96.979', date: '2018-11-26T00:00:00.000Z' },\n",
       "  { usd_price: '96.825', date: '2018-11-23T00:00:00.000Z' },\n",
       "  { usd_price: '96.585', date: '2018-11-21T00:00:00.000Z' },\n",
       "  { usd_price: '96.716', date: '2018-11-20T00:00:00.000Z' },\n",
       "  { usd_price: '96.066', date: '2018-11-19T00:00:00.000Z' },\n",
       "  { usd_price: '96.333', date: '2018-11-16T00:00:00.000Z' },\n",
       "  { usd_price: '96.791', date: '2018-11-15T00:00:00.000Z' },\n",
       "  { usd_price: '96.659', date: '2018-11-14T00:00:00.000Z' },\n",
       "  { usd_price: '97.144', date: '2018-11-13T00:00:00.000Z' },\n",
       "  { usd_price: '97.382', date: '2018-11-12T00:00:00.000Z' },\n",
       "  { usd_price: '96.734', date: '2018-11-09T00:00:00.000Z' },\n",
       "  { usd_price: '96.55', date: '2018-11-08T00:00:00.000Z' },\n",
       "  { usd_price: '95.807', date: '2018-11-07T00:00:00.000Z' },\n",
       "  { usd_price: '96.117', date: '2018-11-06T00:00:00.000Z' },\n",
       "  { usd_price: '96.083', date: '2018-11-05T00:00:00.000Z' },\n",
       "  { usd_price: '96.343', date: '2018-11-02T00:00:00.000Z' },\n",
       "  { usd_price: '96.081', date: '2018-11-01T00:00:00.000Z' },\n",
       "  { usd_price: '96.901', date: '2018-10-31T00:00:00.000Z' },\n",
       "  { usd_price: '96.791', date: '2018-10-30T00:00:00.000Z' },\n",
       "  { usd_price: '96.35', date: '2018-10-29T00:00:00.000Z' },\n",
       "  { usd_price: '96.128', date: '2018-10-26T00:00:00.000Z' },\n",
       "  { usd_price: '96.455', date: '2018-10-25T00:00:00.000Z' },\n",
       "  { usd_price: '96.182', date: '2018-10-24T00:00:00.000Z' },\n",
       "  { usd_price: '95.713', date: '2018-10-23T00:00:00.000Z' },\n",
       "  { usd_price: '95.749', date: '2018-10-22T00:00:00.000Z' },\n",
       "  { usd_price: '95.443', date: '2018-10-19T00:00:00.000Z' },\n",
       "  { usd_price: '95.638', date: '2018-10-18T00:00:00.000Z' },\n",
       "  { usd_price: '95.297', date: '2018-10-17T00:00:00.000Z' },\n",
       "  { usd_price: '94.748', date: '2018-10-16T00:00:00.000Z' },\n",
       "  { usd_price: '94.754', date: '2018-10-15T00:00:00.000Z' },\n",
       "  { usd_price: '94.911', date: '2018-10-12T00:00:00.000Z' },\n",
       "  { usd_price: '94.706', date: '2018-10-11T00:00:00.000Z' },\n",
       "  { usd_price: '95.177', date: '2018-10-10T00:00:00.000Z' },\n",
       "  { usd_price: '95.346', date: '2018-10-09T00:00:00.000Z' },\n",
       "  { usd_price: '95.436', date: '2018-10-08T00:00:00.000Z' },\n",
       "  { usd_price: '95.305', date: '2018-10-05T00:00:00.000Z' },\n",
       "  { usd_price: '95.412', date: '2018-10-04T00:00:00.000Z' },\n",
       "  { usd_price: '95.406', date: '2018-10-03T00:00:00.000Z' },\n",
       "  { usd_price: '94.929', date: '2018-10-01T00:00:00.000Z' },\n",
       "  { usd_price: '94.737', date: '2018-09-28T00:00:00.000Z' },\n",
       "  { usd_price: '94.524', date: '2018-09-27T00:00:00.000Z' },\n",
       "  { usd_price: '93.773', date: '2018-09-26T00:00:00.000Z' },\n",
       "  { usd_price: '93.711', date: '2018-09-25T00:00:00.000Z' },\n",
       "  { usd_price: '93.775', date: '2018-09-24T00:00:00.000Z' },\n",
       "  { usd_price: '93.798', date: '2018-09-21T00:00:00.000Z' },\n",
       "  { usd_price: '93.491', date: '2018-09-20T00:00:00.000Z' },\n",
       "  { usd_price: '94.119', date: '2018-09-19T00:00:00.000Z' },\n",
       "  { usd_price: '94.227', date: '2018-09-18T00:00:00.000Z' },\n",
       "  { usd_price: '94.486', date: '2018-09-17T00:00:00.000Z' },\n",
       "  { usd_price: '94.925', date: '2018-09-14T00:00:00.000Z' },\n",
       "  { usd_price: '94.517', date: '2018-09-13T00:00:00.000Z' },\n",
       "  { usd_price: '94.768', date: '2018-09-12T00:00:00.000Z' },\n",
       "  { usd_price: '95.225', date: '2018-09-11T00:00:00.000Z' },\n",
       "  { usd_price: '95.11', date: '2018-09-10T00:00:00.000Z' },\n",
       "  { usd_price: '95.329', date: '2018-09-07T00:00:00.000Z' },\n",
       "  { usd_price: '94.988', date: '2018-09-06T00:00:00.000Z' },\n",
       "  { usd_price: '95.124', date: '2018-09-05T00:00:00.000Z' },\n",
       "  { usd_price: '95.38', date: '2018-09-04T00:00:00.000Z' },\n",
       "  { usd_price: '95.083', date: '2018-08-31T00:00:00.000Z' },\n",
       "  { usd_price: '94.679', date: '2018-08-30T00:00:00.000Z' },\n",
       "  { usd_price: '94.522', date: '2018-08-29T00:00:00.000Z' },\n",
       "  { usd_price: '94.635', date: '2018-08-28T00:00:00.000Z' },\n",
       "  { usd_price: '94.684', date: '2018-08-27T00:00:00.000Z' },\n",
       "  { usd_price: '95.063', date: '2018-08-24T00:00:00.000Z' },\n",
       "  { usd_price: '95.583', date: '2018-08-23T00:00:00.000Z' },\n",
       "  { usd_price: '95.051', date: '2018-08-22T00:00:00.000Z' },\n",
       "  { usd_price: '95.15', date: '2018-08-21T00:00:00.000Z' },\n",
       "  { usd_price: '95.789', date: '2018-08-20T00:00:00.000Z' },\n",
       "  { usd_price: '95.981', date: '2018-08-17T00:00:00.000Z' },\n",
       "  { usd_price: '96.536', date: '2018-08-16T00:00:00.000Z' },\n",
       "  { usd_price: '96.605', date: '2018-08-14T00:00:00.000Z' },\n",
       "  { usd_price: '96.251', date: '2018-08-13T00:00:00.000Z' },\n",
       "  { usd_price: '96.218', date: '2018-08-10T00:00:00.000Z' },\n",
       "  { usd_price: '95.355', date: '2018-08-09T00:00:00.000Z' },\n",
       "  { usd_price: '94.89', date: '2018-08-08T00:00:00.000Z' },\n",
       "  { usd_price: '95.046', date: '2018-08-07T00:00:00.000Z' },\n",
       "  { usd_price: '95.187', date: '2018-08-06T00:00:00.000Z' },\n",
       "  ... 1618 more items\n",
       "]"
      ]
     },
     "execution_count": 3,
     "metadata": {},
     "output_type": "execute_result"
    }
   ],
   "source": [
    "var file_path = \"./dataset/gold_price.json\";\n",
    "var data = JSON.parse(fs.readFileSync(file_path));\n",
    "data;"
   ]
  },
  {
   "cell_type": "code",
   "execution_count": 24,
   "id": "2bf16ddc",
   "metadata": {},
   "outputs": [
    {
     "data": {
      "text/plain": [
       "[\n",
       "  '95.735', '95.965', '96.001', '96.568', '96.007', '96.455',\n",
       "  '95.728', '96.484', '96.57',  '97.175', '97.43',  '97.056',\n",
       "  '97.018', '97.358', '97.183', '96.476', '96.764', '96.902',\n",
       "  '96.969', '97.196', '96.699', '96.681', '97.28',  '96.979',\n",
       "  '96.825', '96.585', '96.716', '96.066', '96.333', '96.791',\n",
       "  '96.659', '97.144', '97.382', '96.734', '96.55',  '95.807',\n",
       "  '96.117', '96.083', '96.343', '96.081', '96.901', '96.791',\n",
       "  '96.35',  '96.128', '96.455', '96.182', '95.713', '95.749',\n",
       "  '95.443', '95.638', '95.297', '94.748', '94.754', '94.911',\n",
       "  '94.706', '95.177', '95.346', '95.436', '95.305', '95.412',\n",
       "  '95.406', '94.929', '94.737', '94.524', '93.773', '93.711',\n",
       "  '93.775', '93.798', '93.491', '94.119', '94.227', '94.486',\n",
       "  '94.925', '94.517', '94.768', '95.225', '95.11',  '95.329',\n",
       "  '94.988', '95.124', '95.38',  '95.083', '94.679', '94.522',\n",
       "  '94.635', '94.684', '95.063', '95.583', '95.051', '95.15',\n",
       "  '95.789', '95.981', '96.536', '96.605', '96.251', '96.218',\n",
       "  '95.355', '94.89',  '95.046', '95.187',\n",
       "  ... 1618 more items\n",
       "]"
      ]
     },
     "execution_count": 24,
     "metadata": {},
     "output_type": "execute_result"
    }
   ],
   "source": [
    "var processed_data = data.map(e => {\n",
    "    return e['usd_price'];\n",
    "});\n",
    "processed_data;"
   ]
  },
  {
   "cell_type": "code",
   "execution_count": 8,
   "id": "0b1be136",
   "metadata": {},
   "outputs": [],
   "source": [
    "// 1st series\n",
    "var first_plot = generate_plot_line(processed_data,\"gold actual price\");"
   ]
  },
  {
   "cell_type": "code",
   "execution_count": 11,
   "id": "02e2b43d",
   "metadata": {},
   "outputs": [],
   "source": [
    "// 2nd series\n",
    "var predict_data = processed_data.map(e => {\n",
    "    var random_num = Math.floor((Math.random() * 10) + 1);\n",
    "    return e + random_num;\n",
    "});\n",
    "var second_plot = generate_plot_line(predict_data,\"predicted actual price\");"
   ]
  },
  {
   "cell_type": "code",
   "execution_count": 14,
   "id": "ecb40d2c",
   "metadata": {},
   "outputs": [
    {
     "name": "stdout",
     "output_type": "stream",
     "text": [
      "App is already up and running\n",
      "client disconnected\n",
      "Server shutting down\n"
     ]
    }
   ],
   "source": [
    "plot([first_plot, second_plot]);"
   ]
  },
  {
   "cell_type": "code",
   "execution_count": 4,
   "id": "7d32bf80",
   "metadata": {},
   "outputs": [
    {
     "data": {
      "text/plain": [
       "[\n",
       "  { usd_price: '95.735', date: '2018-12-31' },\n",
       "  { usd_price: '95.965', date: '2018-12-28' },\n",
       "  { usd_price: '96.001', date: '2018-12-27' },\n",
       "  { usd_price: '96.568', date: '2018-12-26' },\n",
       "  { usd_price: '96.007', date: '2018-12-24' },\n",
       "  { usd_price: '96.455', date: '2018-12-21' },\n",
       "  { usd_price: '95.728', date: '2018-12-20' },\n",
       "  { usd_price: '96.484', date: '2018-12-19' },\n",
       "  { usd_price: '96.57', date: '2018-12-18' },\n",
       "  { usd_price: '97.175', date: '2018-12-17' },\n",
       "  { usd_price: '97.43', date: '2018-12-14' },\n",
       "  { usd_price: '97.056', date: '2018-12-13' },\n",
       "  { usd_price: '97.018', date: '2018-12-12' },\n",
       "  { usd_price: '97.358', date: '2018-12-11' },\n",
       "  { usd_price: '97.183', date: '2018-12-10' },\n",
       "  { usd_price: '96.476', date: '2018-12-07' },\n",
       "  { usd_price: '96.764', date: '2018-12-06' },\n",
       "  { usd_price: '96.902', date: '2018-12-04' },\n",
       "  { usd_price: '96.969', date: '2018-12-03' },\n",
       "  { usd_price: '97.196', date: '2018-11-30' },\n",
       "  { usd_price: '96.699', date: '2018-11-29' },\n",
       "  { usd_price: '96.681', date: '2018-11-28' },\n",
       "  { usd_price: '97.28', date: '2018-11-27' },\n",
       "  { usd_price: '96.979', date: '2018-11-26' },\n",
       "  { usd_price: '96.825', date: '2018-11-23' },\n",
       "  { usd_price: '96.585', date: '2018-11-21' },\n",
       "  { usd_price: '96.716', date: '2018-11-20' },\n",
       "  { usd_price: '96.066', date: '2018-11-19' },\n",
       "  { usd_price: '96.333', date: '2018-11-16' },\n",
       "  { usd_price: '96.791', date: '2018-11-15' },\n",
       "  { usd_price: '96.659', date: '2018-11-14' },\n",
       "  { usd_price: '97.144', date: '2018-11-13' },\n",
       "  { usd_price: '97.382', date: '2018-11-12' },\n",
       "  { usd_price: '96.734', date: '2018-11-09' },\n",
       "  { usd_price: '96.55', date: '2018-11-08' },\n",
       "  { usd_price: '95.807', date: '2018-11-07' },\n",
       "  { usd_price: '96.117', date: '2018-11-06' },\n",
       "  { usd_price: '96.083', date: '2018-11-05' },\n",
       "  { usd_price: '96.343', date: '2018-11-02' },\n",
       "  { usd_price: '96.081', date: '2018-11-01' },\n",
       "  { usd_price: '96.901', date: '2018-10-31' },\n",
       "  { usd_price: '96.791', date: '2018-10-30' },\n",
       "  { usd_price: '96.35', date: '2018-10-29' },\n",
       "  { usd_price: '96.128', date: '2018-10-26' },\n",
       "  { usd_price: '96.455', date: '2018-10-25' },\n",
       "  { usd_price: '96.182', date: '2018-10-24' },\n",
       "  { usd_price: '95.713', date: '2018-10-23' },\n",
       "  { usd_price: '95.749', date: '2018-10-22' },\n",
       "  { usd_price: '95.443', date: '2018-10-19' },\n",
       "  { usd_price: '95.638', date: '2018-10-18' },\n",
       "  { usd_price: '95.297', date: '2018-10-17' },\n",
       "  { usd_price: '94.748', date: '2018-10-16' },\n",
       "  { usd_price: '94.754', date: '2018-10-15' },\n",
       "  { usd_price: '94.911', date: '2018-10-12' },\n",
       "  { usd_price: '94.706', date: '2018-10-11' },\n",
       "  { usd_price: '95.177', date: '2018-10-10' },\n",
       "  { usd_price: '95.346', date: '2018-10-09' },\n",
       "  { usd_price: '95.436', date: '2018-10-08' },\n",
       "  { usd_price: '95.305', date: '2018-10-05' },\n",
       "  { usd_price: '95.412', date: '2018-10-04' },\n",
       "  { usd_price: '95.406', date: '2018-10-03' },\n",
       "  { usd_price: '94.929', date: '2018-10-01' },\n",
       "  { usd_price: '94.737', date: '2018-09-28' },\n",
       "  { usd_price: '94.524', date: '2018-09-27' },\n",
       "  { usd_price: '93.773', date: '2018-09-26' },\n",
       "  { usd_price: '93.711', date: '2018-09-25' },\n",
       "  { usd_price: '93.775', date: '2018-09-24' },\n",
       "  { usd_price: '93.798', date: '2018-09-21' },\n",
       "  { usd_price: '93.491', date: '2018-09-20' },\n",
       "  { usd_price: '94.119', date: '2018-09-19' },\n",
       "  { usd_price: '94.227', date: '2018-09-18' },\n",
       "  { usd_price: '94.486', date: '2018-09-17' },\n",
       "  { usd_price: '94.925', date: '2018-09-14' },\n",
       "  { usd_price: '94.517', date: '2018-09-13' },\n",
       "  { usd_price: '94.768', date: '2018-09-12' },\n",
       "  { usd_price: '95.225', date: '2018-09-11' },\n",
       "  { usd_price: '95.11', date: '2018-09-10' },\n",
       "  { usd_price: '95.329', date: '2018-09-07' },\n",
       "  { usd_price: '94.988', date: '2018-09-06' },\n",
       "  { usd_price: '95.124', date: '2018-09-05' },\n",
       "  { usd_price: '95.38', date: '2018-09-04' },\n",
       "  { usd_price: '95.083', date: '2018-08-31' },\n",
       "  { usd_price: '94.679', date: '2018-08-30' },\n",
       "  { usd_price: '94.522', date: '2018-08-29' },\n",
       "  { usd_price: '94.635', date: '2018-08-28' },\n",
       "  { usd_price: '94.684', date: '2018-08-27' },\n",
       "  { usd_price: '95.063', date: '2018-08-24' },\n",
       "  { usd_price: '95.583', date: '2018-08-23' },\n",
       "  { usd_price: '95.051', date: '2018-08-22' },\n",
       "  { usd_price: '95.15', date: '2018-08-21' },\n",
       "  { usd_price: '95.789', date: '2018-08-20' },\n",
       "  { usd_price: '95.981', date: '2018-08-17' },\n",
       "  { usd_price: '96.536', date: '2018-08-16' },\n",
       "  { usd_price: '96.605', date: '2018-08-14' },\n",
       "  { usd_price: '96.251', date: '2018-08-13' },\n",
       "  { usd_price: '96.218', date: '2018-08-10' },\n",
       "  { usd_price: '95.355', date: '2018-08-09' },\n",
       "  { usd_price: '94.89', date: '2018-08-08' },\n",
       "  { usd_price: '95.046', date: '2018-08-07' },\n",
       "  { usd_price: '95.187', date: '2018-08-06' },\n",
       "  ... 148 more items\n",
       "]"
      ]
     },
     "execution_count": 4,
     "metadata": {},
     "output_type": "execute_result"
    }
   ],
   "source": [
    "p_data3 = data.map(e => {\n",
    "    var price = e['usd_price'];\n",
    "    var date = e['date'].substring(0,10);\n",
    "    return {\n",
    "        'usd_price' : price,\n",
    "        'date' : date,\n",
    "    };\n",
    "});\n",
    "p_data3 = p_data3.filter(e => {\n",
    "    year = e['date'].substring(0,4);\n",
    "    return year === \"2018\";\n",
    "})\n",
    "p_data3;"
   ]
  },
  {
   "cell_type": "code",
   "execution_count": 9,
   "id": "8aa50e80",
   "metadata": {},
   "outputs": [],
   "source": [
    "x3 = [];\n",
    "y3 = [];\n",
    "\n",
    "p_data3.forEach(e => {\n",
    "   let price = e['usd_price'];\n",
    "   let date = e['date']; \n",
    "    x3.push(date);\n",
    "    y3.push(price);\n",
    "});"
   ]
  },
  {
   "cell_type": "code",
   "execution_count": 10,
   "id": "fbaa0f7c",
   "metadata": {},
   "outputs": [
    {
     "name": "stdout",
     "output_type": "stream",
     "text": [
      "\u001b[32m[Nest] 12993  - \u001b[39m04/28/2022, 11:40:24 PM \u001b[32m    LOG\u001b[39m \u001b[38;5;3m[NestFactory] \u001b[39m\u001b[32mStarting Nest application...\u001b[39m\u001b[38;5;3m +3584470ms\u001b[39m\n",
      "\u001b[32m[Nest] 12993  - \u001b[39m04/28/2022, 11:40:24 PM \u001b[32m    LOG\u001b[39m \u001b[38;5;3m[InstanceLoader] \u001b[39m\u001b[32mServerModule dependencies initialized\u001b[39m\u001b[38;5;3m +6ms\u001b[39m\n",
      "\u001b[32m[Nest] 12993  - \u001b[39m04/28/2022, 11:40:24 PM \u001b[32m    LOG\u001b[39m \u001b[38;5;3m[InstanceLoader] \u001b[39m\u001b[32mServeStaticModule dependencies initialized\u001b[39m\u001b[38;5;3m +0ms\u001b[39m\n",
      "\u001b[32m[Nest] 12993  - \u001b[39m04/28/2022, 11:40:24 PM \u001b[32m    LOG\u001b[39m \u001b[38;5;3m[WebSocketsController] \u001b[39m\u001b[32mPlotsGateway subscribed to the \"readplots\" message\u001b[39m\u001b[38;5;3m +2ms\u001b[39m\n",
      "\u001b[32m[Nest] 12993  - \u001b[39m04/28/2022, 11:40:24 PM \u001b[32m    LOG\u001b[39m \u001b[38;5;3m[NestApplication] \u001b[39m\u001b[32mNest application successfully started\u001b[39m\u001b[38;5;3m +1ms\u001b[39m\n",
      "Server running at http://localhost:57505\n",
      "client connected\n",
      "client disconnected\n",
      "Server shutting down\n"
     ]
    }
   ],
   "source": [
    "var third_plot_metadata= { x: x3, y: y3, type: 'plot' , name: 'actual gold price' }\n",
    "plot([third_plot_metadata]);"
   ]
  },
  {
   "cell_type": "code",
   "execution_count": null,
   "id": "440ec365",
   "metadata": {},
   "outputs": [],
   "source": []
  },
  {
   "cell_type": "code",
   "execution_count": null,
   "id": "ef699d03",
   "metadata": {},
   "outputs": [],
   "source": []
  }
 ],
 "metadata": {
  "kernelspec": {
   "display_name": "JavaScript (Node.js)",
   "language": "javascript",
   "name": "javascript"
  },
  "language_info": {
   "file_extension": ".js",
   "mimetype": "application/javascript",
   "name": "javascript",
   "version": "16.14.2"
  }
 },
 "nbformat": 4,
 "nbformat_minor": 5
}
