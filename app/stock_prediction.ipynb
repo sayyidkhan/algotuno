{
 "cells": [
  {
   "cell_type": "code",
   "execution_count": 1,
   "id": "94654c53",
   "metadata": {},
   "outputs": [],
   "source": [
    "var tf = require('@tensorflow/tfjs-node');\n",
    "var { plot, Plot } = require('nodeplotlib');"
   ]
  },
  {
   "cell_type": "code",
   "execution_count": 2,
   "id": "41ef9267",
   "metadata": {},
   "outputs": [
    {
     "data": {
      "text/plain": [
       "[\n",
       "  { usd_price: '95.735', date: '2018-12-31T00:00:00.000Z' },\n",
       "  { usd_price: '95.965', date: '2018-12-28T00:00:00.000Z' },\n",
       "  { usd_price: '96.001', date: '2018-12-27T00:00:00.000Z' },\n",
       "  { usd_price: '96.568', date: '2018-12-26T00:00:00.000Z' },\n",
       "  { usd_price: '96.007', date: '2018-12-24T00:00:00.000Z' },\n",
       "  { usd_price: '96.455', date: '2018-12-21T00:00:00.000Z' },\n",
       "  { usd_price: '95.728', date: '2018-12-20T00:00:00.000Z' },\n",
       "  { usd_price: '96.484', date: '2018-12-19T00:00:00.000Z' },\n",
       "  { usd_price: '96.57', date: '2018-12-18T00:00:00.000Z' },\n",
       "  { usd_price: '97.175', date: '2018-12-17T00:00:00.000Z' },\n",
       "  { usd_price: '97.43', date: '2018-12-14T00:00:00.000Z' },\n",
       "  { usd_price: '97.056', date: '2018-12-13T00:00:00.000Z' },\n",
       "  { usd_price: '97.018', date: '2018-12-12T00:00:00.000Z' },\n",
       "  { usd_price: '97.358', date: '2018-12-11T00:00:00.000Z' },\n",
       "  { usd_price: '97.183', date: '2018-12-10T00:00:00.000Z' },\n",
       "  { usd_price: '96.476', date: '2018-12-07T00:00:00.000Z' },\n",
       "  { usd_price: '96.764', date: '2018-12-06T00:00:00.000Z' },\n",
       "  { usd_price: '96.902', date: '2018-12-04T00:00:00.000Z' },\n",
       "  { usd_price: '96.969', date: '2018-12-03T00:00:00.000Z' },\n",
       "  { usd_price: '97.196', date: '2018-11-30T00:00:00.000Z' },\n",
       "  { usd_price: '96.699', date: '2018-11-29T00:00:00.000Z' },\n",
       "  { usd_price: '96.681', date: '2018-11-28T00:00:00.000Z' },\n",
       "  { usd_price: '97.28', date: '2018-11-27T00:00:00.000Z' },\n",
       "  { usd_price: '96.979', date: '2018-11-26T00:00:00.000Z' },\n",
       "  { usd_price: '96.825', date: '2018-11-23T00:00:00.000Z' },\n",
       "  { usd_price: '96.585', date: '2018-11-21T00:00:00.000Z' },\n",
       "  { usd_price: '96.716', date: '2018-11-20T00:00:00.000Z' },\n",
       "  { usd_price: '96.066', date: '2018-11-19T00:00:00.000Z' },\n",
       "  { usd_price: '96.333', date: '2018-11-16T00:00:00.000Z' },\n",
       "  { usd_price: '96.791', date: '2018-11-15T00:00:00.000Z' },\n",
       "  { usd_price: '96.659', date: '2018-11-14T00:00:00.000Z' },\n",
       "  { usd_price: '97.144', date: '2018-11-13T00:00:00.000Z' },\n",
       "  { usd_price: '97.382', date: '2018-11-12T00:00:00.000Z' },\n",
       "  { usd_price: '96.734', date: '2018-11-09T00:00:00.000Z' },\n",
       "  { usd_price: '96.55', date: '2018-11-08T00:00:00.000Z' },\n",
       "  { usd_price: '95.807', date: '2018-11-07T00:00:00.000Z' },\n",
       "  { usd_price: '96.117', date: '2018-11-06T00:00:00.000Z' },\n",
       "  { usd_price: '96.083', date: '2018-11-05T00:00:00.000Z' },\n",
       "  { usd_price: '96.343', date: '2018-11-02T00:00:00.000Z' },\n",
       "  { usd_price: '96.081', date: '2018-11-01T00:00:00.000Z' },\n",
       "  { usd_price: '96.901', date: '2018-10-31T00:00:00.000Z' },\n",
       "  { usd_price: '96.791', date: '2018-10-30T00:00:00.000Z' },\n",
       "  { usd_price: '96.35', date: '2018-10-29T00:00:00.000Z' },\n",
       "  { usd_price: '96.128', date: '2018-10-26T00:00:00.000Z' },\n",
       "  { usd_price: '96.455', date: '2018-10-25T00:00:00.000Z' },\n",
       "  { usd_price: '96.182', date: '2018-10-24T00:00:00.000Z' },\n",
       "  { usd_price: '95.713', date: '2018-10-23T00:00:00.000Z' },\n",
       "  { usd_price: '95.749', date: '2018-10-22T00:00:00.000Z' },\n",
       "  { usd_price: '95.443', date: '2018-10-19T00:00:00.000Z' },\n",
       "  { usd_price: '95.638', date: '2018-10-18T00:00:00.000Z' },\n",
       "  { usd_price: '95.297', date: '2018-10-17T00:00:00.000Z' },\n",
       "  { usd_price: '94.748', date: '2018-10-16T00:00:00.000Z' },\n",
       "  { usd_price: '94.754', date: '2018-10-15T00:00:00.000Z' },\n",
       "  { usd_price: '94.911', date: '2018-10-12T00:00:00.000Z' },\n",
       "  { usd_price: '94.706', date: '2018-10-11T00:00:00.000Z' },\n",
       "  { usd_price: '95.177', date: '2018-10-10T00:00:00.000Z' },\n",
       "  { usd_price: '95.346', date: '2018-10-09T00:00:00.000Z' },\n",
       "  { usd_price: '95.436', date: '2018-10-08T00:00:00.000Z' },\n",
       "  { usd_price: '95.305', date: '2018-10-05T00:00:00.000Z' },\n",
       "  { usd_price: '95.412', date: '2018-10-04T00:00:00.000Z' },\n",
       "  { usd_price: '95.406', date: '2018-10-03T00:00:00.000Z' },\n",
       "  { usd_price: '94.929', date: '2018-10-01T00:00:00.000Z' },\n",
       "  { usd_price: '94.737', date: '2018-09-28T00:00:00.000Z' },\n",
       "  { usd_price: '94.524', date: '2018-09-27T00:00:00.000Z' },\n",
       "  { usd_price: '93.773', date: '2018-09-26T00:00:00.000Z' },\n",
       "  { usd_price: '93.711', date: '2018-09-25T00:00:00.000Z' },\n",
       "  { usd_price: '93.775', date: '2018-09-24T00:00:00.000Z' },\n",
       "  { usd_price: '93.798', date: '2018-09-21T00:00:00.000Z' },\n",
       "  { usd_price: '93.491', date: '2018-09-20T00:00:00.000Z' },\n",
       "  { usd_price: '94.119', date: '2018-09-19T00:00:00.000Z' },\n",
       "  { usd_price: '94.227', date: '2018-09-18T00:00:00.000Z' },\n",
       "  { usd_price: '94.486', date: '2018-09-17T00:00:00.000Z' },\n",
       "  { usd_price: '94.925', date: '2018-09-14T00:00:00.000Z' },\n",
       "  { usd_price: '94.517', date: '2018-09-13T00:00:00.000Z' },\n",
       "  { usd_price: '94.768', date: '2018-09-12T00:00:00.000Z' },\n",
       "  { usd_price: '95.225', date: '2018-09-11T00:00:00.000Z' },\n",
       "  { usd_price: '95.11', date: '2018-09-10T00:00:00.000Z' },\n",
       "  { usd_price: '95.329', date: '2018-09-07T00:00:00.000Z' },\n",
       "  { usd_price: '94.988', date: '2018-09-06T00:00:00.000Z' },\n",
       "  { usd_price: '95.124', date: '2018-09-05T00:00:00.000Z' },\n",
       "  { usd_price: '95.38', date: '2018-09-04T00:00:00.000Z' },\n",
       "  { usd_price: '95.083', date: '2018-08-31T00:00:00.000Z' },\n",
       "  { usd_price: '94.679', date: '2018-08-30T00:00:00.000Z' },\n",
       "  { usd_price: '94.522', date: '2018-08-29T00:00:00.000Z' },\n",
       "  { usd_price: '94.635', date: '2018-08-28T00:00:00.000Z' },\n",
       "  { usd_price: '94.684', date: '2018-08-27T00:00:00.000Z' },\n",
       "  { usd_price: '95.063', date: '2018-08-24T00:00:00.000Z' },\n",
       "  { usd_price: '95.583', date: '2018-08-23T00:00:00.000Z' },\n",
       "  { usd_price: '95.051', date: '2018-08-22T00:00:00.000Z' },\n",
       "  { usd_price: '95.15', date: '2018-08-21T00:00:00.000Z' },\n",
       "  { usd_price: '95.789', date: '2018-08-20T00:00:00.000Z' },\n",
       "  { usd_price: '95.981', date: '2018-08-17T00:00:00.000Z' },\n",
       "  { usd_price: '96.536', date: '2018-08-16T00:00:00.000Z' },\n",
       "  { usd_price: '96.605', date: '2018-08-14T00:00:00.000Z' },\n",
       "  { usd_price: '96.251', date: '2018-08-13T00:00:00.000Z' },\n",
       "  { usd_price: '96.218', date: '2018-08-10T00:00:00.000Z' },\n",
       "  { usd_price: '95.355', date: '2018-08-09T00:00:00.000Z' },\n",
       "  { usd_price: '94.89', date: '2018-08-08T00:00:00.000Z' },\n",
       "  { usd_price: '95.046', date: '2018-08-07T00:00:00.000Z' },\n",
       "  { usd_price: '95.187', date: '2018-08-06T00:00:00.000Z' },\n",
       "  ... 1618 more items\n",
       "]"
      ]
     },
     "execution_count": 2,
     "metadata": {},
     "output_type": "execute_result"
    }
   ],
   "source": [
    "var file_path = \"./dataset/gold_price.json\";\n",
    "var data = JSON.parse(fs.readFileSync(file_path));\n",
    "data;"
   ]
  },
  {
   "cell_type": "code",
   "execution_count": 3,
   "id": "bb19aed9",
   "metadata": {},
   "outputs": [],
   "source": [
    "function round_two_decimal(num) {\n",
    "    var with2Decimals = num.toString().match(/^-?\\d+(?:\\.\\d{0,2})?/)[0];\n",
    "    return with2Decimals;\n",
    "}\n",
    "\n",
    "var get_gold_price = (filter_year) => {\n",
    "    var filtered_data = data.filter(x => {\n",
    "        var year = x['date'].substring(0,4);\n",
    "        return year === filter_year;\n",
    "    });\n",
    "    var sorted_data = filtered_data.map(x => {\n",
    "        return {\n",
    "            'usd_price': round_two_decimal(x['usd_price']),\n",
    "            'date': new Date(x['date']),\n",
    "        };\n",
    "    });\n",
    "    var sort_asc = sorted_data.sort((a,b)=>a['date'].getTime()-b['date'].getTime());\n",
    "    let result = sort_asc.map(x => {\n",
    "       var usd_price = x['usd_price'];\n",
    "       var date = x['date'].toISOString().substring(0,10);\n",
    "       return {\n",
    "           'usd_price': usd_price,\n",
    "           'date' : date,\n",
    "       };\n",
    "    });\n",
    "    return result;\n",
    "};"
   ]
  },
  {
   "cell_type": "code",
   "execution_count": 4,
   "id": "9dcbff4b",
   "metadata": {},
   "outputs": [],
   "source": [
    "//var gold price 2017\n",
    "var gold_price_2017 = get_gold_price('2017');\n",
    "//var gold price 2018\n",
    "var gold_price_2018 = get_gold_price('2018');"
   ]
  },
  {
   "cell_type": "code",
   "execution_count": 5,
   "id": "46f8b239",
   "metadata": {},
   "outputs": [],
   "source": [
    "// original chart - 2017 gold price\n",
    "x2017 = [];\n",
    "y2017 = [];\n",
    "\n",
    "gold_price_2017.forEach(e => {\n",
    "   let price = e['usd_price'];\n",
    "   let date = e['date']; \n",
    "    x2017.push(date);\n",
    "    y2017.push(price);\n",
    "});\n",
    "\n",
    "var third_plot_metadata= { x: x2017 , y: y2017, type: 'plot' , name: 'actual gold price',line: {color: \"#128bcc\" } }\n",
    "//plot([third_plot_metadata]);"
   ]
  },
  {
   "cell_type": "markdown",
   "id": "da377b77",
   "metadata": {},
   "source": [
    "## RNN code begins here"
   ]
  },
  {
   "cell_type": "code",
   "execution_count": 6,
   "id": "121fcd95",
   "metadata": {},
   "outputs": [],
   "source": [
    "function addTimeSeriesToSMA(data) {\n",
    "    result = [];\n",
    "    for (let index = 0; index < data.length;index++) {\n",
    "        var x = data[index];\n",
    "        var set = x['set'];\n",
    "        var start_date = set[0]['date'];\n",
    "        var end_date = set[set.length - 1]['date']; // date will be based on the start of the week\n",
    "        var date = end_date;\n",
    "        \n",
    "        index += 1;\n",
    "        let sma = {\n",
    "            'set' : set,\n",
    "            'avg' : x['avg'],\n",
    "            'date': date, \n",
    "        }\n",
    "        result.push(sma);\n",
    "    }\n",
    "    return result;\n",
    "}\n",
    "\n",
    "// SMA - smooth smoothing average over the day period\n",
    "function computeSMA(data,window_size) {\n",
    "let r_avgs=[];\n",
    "let avg_prev=0;\n",
    "  for(let i=0;i<data.length-window_size;i++){\n",
    "     let curr_avg=0.00;\n",
    "     let t=i+window_size;\n",
    "     for(let j=i;j<t && j<=data.length;j++){\n",
    "      curr_avg+=data[j]['usd_price']/window_size;\n",
    "      }\n",
    "     let sma={\n",
    "     set:data.slice(i,i+window_size),\n",
    "     avg:curr_avg,    \n",
    "  }\n",
    "  r_avgs.push(sma);\n",
    "  avg_prev=curr_avg;\n",
    "  }\n",
    "console.log(r_avgs.length);    \n",
    "r_avgs = addTimeSeriesToSMA(r_avgs);\n",
    "    \n",
    "return r_avgs;\n",
    "}\n",
    "\n"
   ]
  },
  {
   "cell_type": "code",
   "execution_count": 7,
   "id": "5553c38b",
   "metadata": {},
   "outputs": [
    {
     "name": "stdout",
     "output_type": "stream",
     "text": [
      "218\n",
      "198\n"
     ]
    }
   ],
   "source": [
    "// get the moving average for year 2017\n",
    "var window_size_30 = 30;\n",
    "var computeSMA2017_30 = computeSMA(gold_price_2017,window_size_30);\n",
    "\n",
    "// get the moving average for year 2017\n",
    "var window_size_50 = 50;\n",
    "var computeSMA2017_50 = computeSMA(gold_price_2017,window_size_50);"
   ]
  },
  {
   "cell_type": "code",
   "execution_count": 8,
   "id": "08279ce0",
   "metadata": {},
   "outputs": [],
   "source": [
    "// original chart - 2017 gold price (30 SMA)\n",
    "x2017SMA_30 = [];\n",
    "y2017SMA_30 = [];\n",
    "\n",
    "computeSMA2017_30.forEach(e => {\n",
    "   let price = e['avg'];\n",
    "   let date = e['date']; \n",
    "    x2017SMA_30.push(date);\n",
    "    y2017SMA_30.push(price);\n",
    "});\n",
    "\n",
    "\n",
    "var sma2017graph_30sma = { x: x2017SMA_30 , y: y2017SMA_30, type: 'plot' , name: '(30) SMA', line: {color: \"#e3a909\" } }"
   ]
  },
  {
   "cell_type": "code",
   "execution_count": 9,
   "id": "4c4a2104",
   "metadata": {},
   "outputs": [],
   "source": [
    "// original chart - 2017 gold price\n",
    "x2017SMA_50 = [];\n",
    "y2017SMA_50 = [];\n",
    "\n",
    "computeSMA2017_50.forEach(e => {\n",
    "   let price = e['avg'];\n",
    "   let date = e['date']; \n",
    "    x2017SMA_50.push(date);\n",
    "    y2017SMA_50.push(price);\n",
    "});\n",
    "\n",
    "\n",
    "var sma2017graph_50sma = { x: x2017SMA_50 , y: y2017SMA_50, type: 'plot' , name: '(50) SMA', line: {color: \"#a16813\" } }"
   ]
  },
  {
   "cell_type": "code",
   "execution_count": 10,
   "id": "39e69118",
   "metadata": {},
   "outputs": [
    {
     "name": "stdout",
     "output_type": "stream",
     "text": [
      "\u001b[32m[Nest] 15950  - \u001b[39m04/30/2022, 7:59:52 PM \u001b[32m    LOG\u001b[39m \u001b[38;5;3m[NestFactory] \u001b[39m\u001b[32mStarting Nest application...\u001b[39m\n",
      "\u001b[32m[Nest] 15950  - \u001b[39m04/30/2022, 7:59:52 PM \u001b[32m    LOG\u001b[39m \u001b[38;5;3m[InstanceLoader] \u001b[39m\u001b[32mServerModule dependencies initialized\u001b[39m\u001b[38;5;3m +23ms\u001b[39m\n",
      "\u001b[32m[Nest] 15950  - \u001b[39m04/30/2022, 7:59:52 PM \u001b[32m    LOG\u001b[39m \u001b[38;5;3m[InstanceLoader] \u001b[39m\u001b[32mServeStaticModule dependencies initialized\u001b[39m\u001b[38;5;3m +0ms\u001b[39m\n",
      "\u001b[32m[Nest] 15950  - \u001b[39m04/30/2022, 7:59:52 PM \u001b[32m    LOG\u001b[39m \u001b[38;5;3m[WebSocketsController] \u001b[39m\u001b[32mPlotsGateway subscribed to the \"readplots\" message\u001b[39m\u001b[38;5;3m +42ms\u001b[39m\n",
      "\u001b[32m[Nest] 15950  - \u001b[39m04/30/2022, 7:59:52 PM \u001b[32m    LOG\u001b[39m \u001b[38;5;3m[NestApplication] \u001b[39m\u001b[32mNest application successfully started\u001b[39m\u001b[38;5;3m +4ms\u001b[39m\n",
      "Server running at http://localhost:62517\n",
      "client connected\n",
      "client disconnected\n",
      "Server shutting down\n"
     ]
    }
   ],
   "source": [
    "plot([third_plot_metadata, sma2017graph_30sma, sma2017graph_50sma]);"
   ]
  },
  {
   "cell_type": "code",
   "execution_count": 18,
   "id": "493d41c3",
   "metadata": {},
   "outputs": [
    {
     "name": "stdout",
     "output_type": "stream",
     "text": [
      "Tensor\n",
      "    [[0.3292046, 0.205144, 0.1675977, 0.2980537],\n",
      "     [0.3292046, 0.205144, 0.1675977, 0.2980537]]\n"
     ]
    }
   ],
   "source": [
    "// Define input, which has a size of 5 (not including batch dimension).\n",
    "var input = tf.input({shape: [5]});\n",
    "\n",
    "\n",
    "\n",
    "// First dense layer uses relu activation.\n",
    "var denseLayer1 = tf.layers.dense({units: 10, activation: 'relu'});\n",
    "// Second dense layer uses softmax activation.\n",
    "var denseLayer2 = tf.layers.dense({units: 4, activation: 'softmax'});\n",
    "\n",
    "// Obtain the output symbolic tensor by applying the layers on the input.\n",
    "var output = denseLayer2.apply(denseLayer1.apply(input));\n",
    "\n",
    "// Create the model based on the inputs.\n",
    "var model = tf.model({inputs: input, outputs: output});\n",
    "\n",
    "// The model can be used for training, evaluation and prediction.\n",
    "// For example, the following line runs prediction with the model on\n",
    "// some fake data.\n",
    "model.predict(tf.ones([2, 5])).print();"
   ]
  },
  {
   "cell_type": "code",
   "execution_count": null,
   "id": "9ba6c70e",
   "metadata": {},
   "outputs": [],
   "source": [
    "// hyper parameters\n",
    "\n",
    "num_epochs = 100 // no of batches to train against\n",
    "total_series_length = 50000\n",
    "state_size = 4 // how neurons in the hidden layer\n",
    "num_classess = 2\n",
    "echo_step = 3\n",
    "batch_size = 5\n",
    "num_batches = total_series_length"
   ]
  },
  {
   "cell_type": "code",
   "execution_count": null,
   "id": "b1d698a0",
   "metadata": {},
   "outputs": [],
   "source": [
    "async function trainModel(input, outputs, trainingsize,window_size, n_epochs, learning_rate, n_layers, callback) {\n",
    "    // hyper parameters\n",
    "    const input_layer_shape = window_size;\n",
    "    const input_layer_neurons = 100;\n",
    "    \n",
    "    const rnn_input_layer_features = 10;\n",
    "    const rnn_input_layer_timesteps = input_layer_neurons / rnn_input_layer_features; // 10\n",
    "    \n",
    "    const rnn_input_shape = [ rnn_input_layer_features , rnn_input_layer_timesteps ];\n",
    "    const rnn_output_neurons = 20;\n",
    "    \n",
    "    const rnn_batch_size = window_size;\n",
    "    \n",
    "    const output_layer_shape = rnn_output_neurons;\n",
    "    const output_layer_neurons = 1;\n",
    "}"
   ]
  }
 ],
 "metadata": {
  "kernelspec": {
   "display_name": "JavaScript (Node.js)",
   "language": "javascript",
   "name": "javascript"
  },
  "language_info": {
   "file_extension": ".js",
   "mimetype": "application/javascript",
   "name": "javascript",
   "version": "16.14.2"
  }
 },
 "nbformat": 4,
 "nbformat_minor": 5
}
