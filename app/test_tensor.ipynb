{
 "cells": [
  {
   "cell_type": "code",
   "execution_count": 1,
   "id": "b40b77b3-f8b6-4b64-adb3-f8d1d759ddbd",
   "metadata": {},
   "outputs": [],
   "source": [
    "const tf = require('@tensorflow/tfjs-node');"
   ]
  },
  {
   "cell_type": "code",
   "execution_count": 10,
   "id": "651b00ac",
   "metadata": {},
   "outputs": [],
   "source": [
    "var asciichart = require ('asciichart');"
   ]
  },
  {
   "cell_type": "code",
   "execution_count": 8,
   "id": "0f9c0fa4",
   "metadata": {},
   "outputs": [],
   "source": [
    "var s0 = new Array (120);"
   ]
  },
  {
   "cell_type": "code",
   "execution_count": 1,
   "id": "2e3a2811",
   "metadata": {},
   "outputs": [],
   "source": [
    "const ervy = require('ervy')\n",
    "const { bar, pie, bullet, donut, gauge, scatter } = ervy"
   ]
  },
  {
   "cell_type": "code",
   "execution_count": 7,
   "id": "6eb9401a",
   "metadata": {},
   "outputs": [
    {
     "name": "stdout",
     "output_type": "stream",
     "text": [
      "  Y AxisA: # \n",
      "\n",
      "\u001b[0C\u001b[0A                        \n",
      "\u001b[0C                        \n",
      "\u001b[0C                        \n",
      "\u001b[0C                        \n",
      "\u001b[0C                        \n",
      "\u001b[0C                        \n",
      "\u001b[0C                        \n",
      "\u001b[0C                        \n",
      "\u001b[0C                        \n",
      "\u001b[0C                        \n",
      "\u001b[0C                        \n",
      "\u001b[NaNC\u001b[0A# \u001b[0B\u001b[NaND\u001b[20D\u001b[11A   A\n",
      " 10|\n",
      "   |\n",
      "  8|\n",
      "   |\n",
      "  6|\n",
      "   |\n",
      "  4|\n",
      "   |\n",
      "  2|\n",
      "   |\n",
      "   |\u001b[1D+\u001b[1B\u001b[1D0\u001b[1A---+\u001b[1B\u001b[1D2\u001b[1A---+\u001b[1B\u001b[1D4\u001b[1A---+\u001b[1B\u001b[1D6\u001b[1A---+\u001b[1B\u001b[1D8\u001b[1A---+\u001b[1B\u001b[1D10\u001b[1A\u001b[1D-> X Axis\n",
      "\n"
     ]
    }
   ],
   "source": [
    "\n",
    "var data = [\n",
    "  { key: 'A', value: [] },\n",
    "]\n",
    "\n",
    "// Then use any chartType you like, for example:\n",
    "console.log(\n",
    "  scatter(data)\n",
    ")"
   ]
  },
  {
   "cell_type": "code",
   "execution_count": 7,
   "id": "378d3cfc",
   "metadata": {},
   "outputs": [
    {
     "name": "stdout",
     "output_type": "stream",
     "text": [
      "                \n",
      "    undefinedundefinedundefinedundefinedundefined  \n",
      "  undefinedundefinedundefinedundefinedundefinedundefinedundefined\n",
      "  undefinedundefinedundefinedundefinedundefinedundefinedundefined\n",
      "  undefinedundefinedundefinedundefinedundefinedundefinedundefined\n",
      "  undefinedundefinedundefinedundefinedundefinedundefinedundefined\n",
      "  undefinedundefinedundefinedundefinedundefinedundefinedundefined\n",
      "    undefinedundefinedundefinedundefinedundefined  \n",
      "\n",
      "undefined A: 30 (33%)\n",
      "undefined B: 10 (11%)\n",
      "undefined C: 50 (56%)\n",
      "\n"
     ]
    }
   ],
   "source": []
  },
  {
   "cell_type": "code",
   "execution_count": null,
   "id": "cd5a76cd",
   "metadata": {},
   "outputs": [],
   "source": []
  }
 ],
 "metadata": {
  "kernelspec": {
   "display_name": "JavaScript (Node.js)",
   "language": "javascript",
   "name": "javascript"
  },
  "language_info": {
   "file_extension": ".js",
   "mimetype": "application/javascript",
   "name": "javascript",
   "version": "16.14.2"
  }
 },
 "nbformat": 4,
 "nbformat_minor": 5
}
